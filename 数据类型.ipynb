{
 "cells": [
  {
   "cell_type": "markdown",
   "metadata": {},
   "source": [
    "## 数据类型\n"
   ]
  },
  {
   "cell_type": "markdown",
   "metadata": {},
   "source": [
    "### 整型 int\n",
    "\n",
    "https://docs.python.org/zh-cn/3/tutorial/introduction.html"
   ]
  },
  {
   "cell_type": "code",
   "execution_count": 7,
   "metadata": {},
   "outputs": [
    {
     "name": "stdout",
     "output_type": "stream",
     "text": [
      "4\n",
      "1.5\n",
      "1\n",
      "1\n"
     ]
    }
   ],
   "source": [
    "print(2 + 2)\n",
    "print(3 / 2) # / 永远返回浮点数\n",
    "print(3 // 2) # // 返回整数\n",
    "print(3 % 2)"
   ]
  },
  {
   "cell_type": "markdown",
   "metadata": {},
   "source": [
    "### 浮点型"
   ]
  },
  {
   "cell_type": "code",
   "execution_count": 3,
   "metadata": {},
   "outputs": [
    {
     "name": "stdout",
     "output_type": "stream",
     "text": [
      "9.5\n"
     ]
    }
   ],
   "source": [
    "print(3.5+6)"
   ]
  },
  {
   "cell_type": "markdown",
   "metadata": {},
   "source": [
    "### 算数运算符\n",
    "\n",
    "｜运算符|｜含义|\n",
    "|:---:|:----:|\n",
    "|+|加|\n",
    "|-|减|\n",
    "|*|乘|\n",
    "|/|除|\n",
    "|//|整除|\n",
    "|%|取余|\n",
    "|**|乘方|\n",
    "\n",
    "\n"
   ]
  },
  {
   "cell_type": "code",
   "execution_count": 8,
   "metadata": {},
   "outputs": [
    {
     "name": "stdout",
     "output_type": "stream",
     "text": [
      "8\n"
     ]
    }
   ],
   "source": [
    "print(2**3)"
   ]
  },
  {
   "cell_type": "markdown",
   "metadata": {},
   "source": [
    "### 文本\n",
    "\n",
    "由 str 表示，称为字符串。可以用单引号或者双引号表示，结果完全相同，如果字符串中需要使用引号需要使用 \\ 进行转义。字符串中也可以使用转义字符如 \\n ,如果不想使用转义可以使用原始字符串，字符串开头增加 r 字符\n"
   ]
  },
  {
   "cell_type": "code",
   "execution_count": null,
   "metadata": {},
   "outputs": [
    {
     "name": "stdout",
     "output_type": "stream",
     "text": [
      "I don't like this\n",
      "I don't like this\n",
      "\"Isn't,\" they said.\n",
      "First line.\n",
      "Second line.\n",
      "First line.\\nSecond line.\n",
      "C:\\this\\will\\not\\work\\\n"
     ]
    }
   ],
   "source": [
    "print('I don\\'t like this') # 使用转义\n",
    "print(\"I don't like this\") # 使用另一个引号作为标识符\n",
    "print('\"Isn\\'t,\" they said.')\n",
    "\n",
    "s = 'First line.\\nSecond line.' \n",
    "print(s)\n",
    "\n",
    "rs = r'First line.\\nSecond line.'\n",
    "print(rs)\n",
    "# 原始字符串不能使用 \\ ，通过字符串拼接来替代\n",
    "print(r'C:\\this\\will\\not\\work' '\\\\')"
   ]
  },
  {
   "cell_type": "markdown",
   "metadata": {},
   "source": [
    "字符串文本可以跨越多行，一种方法是使用三重引号 `'''...'''` 或 `\"\"\"...\"\"\"`。行尾会自动包含在字符串中，但是可以通过在行尾添加 \\ 来避免这种情况，下面的示例不包含首行换行符"
   ]
  },
  {
   "cell_type": "code",
   "execution_count": 20,
   "metadata": {},
   "outputs": [
    {
     "name": "stdout",
     "output_type": "stream",
     "text": [
      "      Usage: thingy [OPTIONS]\n",
      "      -h Display the usage message\n",
      "      -H Hostname to connect to\n",
      "      \n"
     ]
    }
   ],
   "source": [
    "print(\"\"\"\\\n",
    "      Usage: thingy [OPTIONS]\n",
    "      -h Display the usage message\n",
    "      -H Hostname to connect to\n",
    "      \"\"\")"
   ]
  },
  {
   "cell_type": "markdown",
   "metadata": {},
   "source": [
    "用 + 合并字符串 用 * 重复字符串"
   ]
  },
  {
   "cell_type": "code",
   "execution_count": 21,
   "metadata": {},
   "outputs": [
    {
     "data": {
      "text/plain": [
       "'nununuium'"
      ]
     },
     "execution_count": 21,
     "metadata": {},
     "output_type": "execute_result"
    }
   ],
   "source": [
    "3 * \"nu\" + \"ium\""
   ]
  },
  {
   "cell_type": "markdown",
   "metadata": {},
   "source": [
    "相邻的两个或多个字符串字面值会自动合并，字面值与字符串变量不会自动合并需要使用 `+` "
   ]
  },
  {
   "cell_type": "code",
   "execution_count": null,
   "metadata": {},
   "outputs": [
    {
     "name": "stdout",
     "output_type": "stream",
     "text": [
      "HelloWorld!\n"
     ]
    }
   ],
   "source": [
    "print(\"Hello\"\" World\"'!')"
   ]
  },
  {
   "cell_type": "markdown",
   "metadata": {},
   "source": [
    "字符串不支持修改，字符串支持索引访问，第一个字符串的索引是 0\n",
    "第一个字符的左侧标为 0，最后一个字符的右侧标为 n ，n 是字符串长度。  \n",
    " +---+---+---+---+---+---+  \n",
    " | P | y | t | h | o | n |  \n",
    " +---+---+---+---+---+---+  \n",
    " 0   1   2   3   4   5   6  \n",
    "-6  -5  -4  -3  -2  -1  \n"
   ]
  },
  {
   "cell_type": "code",
   "execution_count": 31,
   "metadata": {},
   "outputs": [
    {
     "name": "stdout",
     "output_type": "stream",
     "text": [
      "P\n",
      "n\n",
      "n\n",
      "o\n",
      "P\n",
      "Py\n",
      "Py\n",
      "thon\n"
     ]
    }
   ],
   "source": [
    "word = \"Python\"\n",
    "print(word[0]) # 第一个字符\n",
    "print(word[5]) # 最后一个字符\n",
    "print(word[-1]) # 最后一个字符\n",
    "print(word[-2]) # 倒数第二个字符\n",
    "print(word[-6]) # 第一个字符\n",
    "print(word[0:2]) # 第一个和第二个字符 [0, 2) 左闭右开区间\n",
    "print(word[:2]) # 省略开始值默认值为0\n",
    "print(word[2:]) # 省略结束值默认值为字符串结尾\n",
    "\n",
    "# word[0] = 'p' # 'str' object does not support item assignment\n"
   ]
  },
  {
   "cell_type": "markdown",
   "metadata": {},
   "source": [
    "### 列表\n",
    "\n",
    "支持多种复杂数据类型，可将不同值组合在一起，最常用的列表是用方括号标注用逗号分隔每个值。但一般情况下类型相同。"
   ]
  },
  {
   "cell_type": "code",
   "execution_count": 33,
   "metadata": {},
   "outputs": [
    {
     "name": "stdout",
     "output_type": "stream",
     "text": [
      "[1, 2.3, 'hello']\n"
     ]
    }
   ],
   "source": [
    "print([1,2.3, \"hello\"])"
   ]
  },
  {
   "cell_type": "markdown",
   "metadata": {},
   "source": [
    "列表支持切片操作"
   ]
  },
  {
   "cell_type": "code",
   "execution_count": null,
   "metadata": {},
   "outputs": [
    {
     "name": "stdout",
     "output_type": "stream",
     "text": [
      "1\n",
      "[3, 4, 5, 6, 7, 8, 9, 10]\n"
     ]
    }
   ],
   "source": [
    "nums = [1,2,3,4,5,6,7,8,9,10]\n",
    "print(nums[0])\n",
    "print(nums[2:])"
   ]
  },
  {
   "cell_type": "markdown",
   "metadata": {},
   "source": [
    "列表合并"
   ]
  },
  {
   "cell_type": "code",
   "execution_count": 38,
   "metadata": {},
   "outputs": [
    {
     "name": "stdout",
     "output_type": "stream",
     "text": [
      "[1, 2, 3, 4, 5, 6, 7, 8, 9, 10]\n"
     ]
    }
   ],
   "source": [
    "num1 = [1,2,3,4,5]\n",
    "num2 = [6,7,8,9,10]\n",
    "print(num1+num2)"
   ]
  },
  {
   "cell_type": "markdown",
   "metadata": {},
   "source": [
    "列表元素追加"
   ]
  },
  {
   "cell_type": "code",
   "execution_count": null,
   "metadata": {},
   "outputs": [
    {
     "name": "stdout",
     "output_type": "stream",
     "text": [
      "[6, 7, 8, 9, 10, 11]\n"
     ]
    }
   ],
   "source": [
    "nums = [6,7,8,9,10]\n",
    "nums.append(11)\n",
    "print(nums)"
   ]
  },
  {
   "cell_type": "markdown",
   "metadata": {},
   "source": [
    "斐波那契数列 "
   ]
  },
  {
   "cell_type": "code",
   "execution_count": 40,
   "metadata": {},
   "outputs": [
    {
     "name": "stdout",
     "output_type": "stream",
     "text": [
      "0\n",
      "1\n",
      "1\n",
      "2\n",
      "3\n",
      "5\n",
      "8\n"
     ]
    }
   ],
   "source": [
    "a, b = 0, 1\n",
    "while a < 10:\n",
    "    print(a)\n",
    "    a, b = b, a+b"
   ]
  }
 ],
 "metadata": {
  "colab": {
   "include_colab_link": true,
   "name": "欢迎使用 Colaboratory",
   "provenance": [],
   "toc_visible": true
  },
  "kernelspec": {
   "display_name": "base",
   "language": "python",
   "name": "python3"
  },
  "language_info": {
   "codemirror_mode": {
    "name": "ipython",
    "version": 3
   },
   "file_extension": ".py",
   "mimetype": "text/x-python",
   "name": "python",
   "nbconvert_exporter": "python",
   "pygments_lexer": "ipython3",
   "version": "3.12.4"
  }
 },
 "nbformat": 4,
 "nbformat_minor": 0
}
